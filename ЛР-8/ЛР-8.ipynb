{
 "cells": [
  {
   "cell_type": "markdown",
   "id": "438e1d3d-7902-4619-964b-1c0064fe752e",
   "metadata": {},
   "source": [
    "# **Лабораторная работа №8** \"Построение пайплайна одномерной регрессии\"\n",
    "# **Выполнил: Дякин Владимир; группа: ПИН-б-о-22-1**"
   ]
  },
  {
   "cell_type": "markdown",
   "id": "fde3bde6-4da5-4609-942f-0961b98d087f",
   "metadata": {},
   "source": [
    "## Ссылка на используемый датасет: https://www.kaggle.com/datasets/yasserh/advertising-sales-dataset"
   ]
  },
  {
   "cell_type": "markdown",
   "id": "4a66742d-8800-42e3-8976-599f0529d2c5",
   "metadata": {},
   "source": [
    "## **Первичный анализ**"
   ]
  },
  {
   "cell_type": "markdown",
   "id": "f3e95693-6682-4fe0-b981-93fc9d84181e",
   "metadata": {},
   "source": [
    "### Общее описание набора данных \"Advertising Sales Dataset\"\n",
    "\n",
    "Этот набор данных содержит информацию о продажах рекламы в различных источниках. Он включает 200 экземпляров с 4 признаками, все из которых являются численными.\n",
    "\n",
    "### Описание признаков\n",
    "\n",
    "1. **TV** - бюджет рекламы на телевидении, в тыс. долл.\n",
    "2. **Radio** - бюджет рекламы на радио, в тыс. долл.  \n",
    "3. **Newspaper** - бюджет рекламы в газетах, в тыс. долл.\n",
    "4. **Sales** - объем продаж, в тыс. долл.\n",
    "\n",
    "### Характеристики данных\n",
    "\n",
    "- Количество элементов (Instances): 200\n",
    "- Количество признаков (Features): 4\n",
    "- Связанные задачи: Регрессия\n",
    "- Характеристики набора данных: Многомерные (Multivariate)\n",
    "- Тип признаков: Численные (Numeric)\n",
    "\n",
    "### Распределение данных\n",
    "\n",
    "Поскольку данный набор данных предназначен для задачи регрессии, в нем нет информации о распределении классов. Вместо этого нужно провести анализ статистических характеристик числовых признаков, таких как:\n",
    "\n",
    "- Среднее значение\n",
    "- Медиана\n",
    "- Стандартное отклонение\n",
    "- Минимальное и максимальное значения\n",
    "- Гистограммы распределения\n",
    "\n",
    "Это поможет понять характер и особенности данных, что в свою очередь позволит выбрать подходящие методы моделирования.\n",
    "\n",
    "Таким образом, данный набор данных \"Advertising Sales Dataset\" представляет интерес для разработки и оценки моделей регрессии, прогнозирующих объем продаж на основе бюджетов рекламы в различных источниках."
   ]
  },
  {
   "cell_type": "markdown",
   "id": "f655a939-0909-4843-a16f-f8dcb48b9981",
   "metadata": {},
   "source": [
    "## Задание"
   ]
  },
  {
   "cell_type": "markdown",
   "id": "39ac7734-c93a-4f02-95cc-b8285675d865",
   "metadata": {},
   "source": [
    "Импорт необходимых библиотек для работы с данными (Pandas, NumPy), визуализацией (Matplotlib)."
   ]
  },
  {
   "cell_type": "code",
   "execution_count": 10,
   "id": "4ce79f44-add0-4fb7-b3e8-ed6e6a565bc1",
   "metadata": {},
   "outputs": [],
   "source": [
    "import numpy as np\n",
    "import matplotlib.pyplot as plt\n",
    "import pandas as pd"
   ]
  },
  {
   "cell_type": "markdown",
   "id": "ee50f123-9e73-4421-8596-93a0e63021d7",
   "metadata": {},
   "source": [
    "Чтение данных из файла \"advertising_sales.csv\" в Pandas DataFrame dataset и вывод первых 5 строк данных."
   ]
  },
  {
   "cell_type": "code",
   "execution_count": 11,
   "id": "a2b230d0-45cd-4dfa-ab74-7ffb44544353",
   "metadata": {},
   "outputs": [
    {
     "data": {
      "text/html": [
       "<div>\n",
       "<style scoped>\n",
       "    .dataframe tbody tr th:only-of-type {\n",
       "        vertical-align: middle;\n",
       "    }\n",
       "\n",
       "    .dataframe tbody tr th {\n",
       "        vertical-align: top;\n",
       "    }\n",
       "\n",
       "    .dataframe thead th {\n",
       "        text-align: right;\n",
       "    }\n",
       "</style>\n",
       "<table border=\"1\" class=\"dataframe\">\n",
       "  <thead>\n",
       "    <tr style=\"text-align: right;\">\n",
       "      <th></th>\n",
       "      <th>Unnamed: 0</th>\n",
       "      <th>TV Ad Budget ($)</th>\n",
       "      <th>Radio Ad Budget ($)</th>\n",
       "      <th>Newspaper Ad Budget ($)</th>\n",
       "      <th>Sales ($)</th>\n",
       "    </tr>\n",
       "  </thead>\n",
       "  <tbody>\n",
       "    <tr>\n",
       "      <th>0</th>\n",
       "      <td>1</td>\n",
       "      <td>230.1</td>\n",
       "      <td>37.8</td>\n",
       "      <td>69.2</td>\n",
       "      <td>22.1</td>\n",
       "    </tr>\n",
       "    <tr>\n",
       "      <th>1</th>\n",
       "      <td>2</td>\n",
       "      <td>44.5</td>\n",
       "      <td>39.3</td>\n",
       "      <td>45.1</td>\n",
       "      <td>10.4</td>\n",
       "    </tr>\n",
       "    <tr>\n",
       "      <th>2</th>\n",
       "      <td>3</td>\n",
       "      <td>17.2</td>\n",
       "      <td>45.9</td>\n",
       "      <td>69.3</td>\n",
       "      <td>9.3</td>\n",
       "    </tr>\n",
       "    <tr>\n",
       "      <th>3</th>\n",
       "      <td>4</td>\n",
       "      <td>151.5</td>\n",
       "      <td>41.3</td>\n",
       "      <td>58.5</td>\n",
       "      <td>18.5</td>\n",
       "    </tr>\n",
       "    <tr>\n",
       "      <th>4</th>\n",
       "      <td>5</td>\n",
       "      <td>180.8</td>\n",
       "      <td>10.8</td>\n",
       "      <td>58.4</td>\n",
       "      <td>12.9</td>\n",
       "    </tr>\n",
       "  </tbody>\n",
       "</table>\n",
       "</div>"
      ],
      "text/plain": [
       "   Unnamed: 0  TV Ad Budget ($)  Radio Ad Budget ($)  Newspaper Ad Budget ($)  \\\n",
       "0           1             230.1                 37.8                     69.2   \n",
       "1           2              44.5                 39.3                     45.1   \n",
       "2           3              17.2                 45.9                     69.3   \n",
       "3           4             151.5                 41.3                     58.5   \n",
       "4           5             180.8                 10.8                     58.4   \n",
       "\n",
       "   Sales ($)  \n",
       "0       22.1  \n",
       "1       10.4  \n",
       "2        9.3  \n",
       "3       18.5  \n",
       "4       12.9  "
      ]
     },
     "execution_count": 11,
     "metadata": {},
     "output_type": "execute_result"
    }
   ],
   "source": [
    "dataset = pd.read_csv('advertising_sales.csv')\n",
    "dataset.head()"
   ]
  },
  {
   "cell_type": "markdown",
   "id": "3d607ab8-88d9-4dfa-a69d-2098ba9a0fd2",
   "metadata": {},
   "source": [
    "Разделение данных из DataFrame на матрицу признаков X и зависимую переменную y, с выводом их на экран."
   ]
  },
  {
   "cell_type": "code",
   "execution_count": 12,
   "id": "5ce02e23-0602-4a01-b48e-d8cd071f325e",
   "metadata": {},
   "outputs": [
    {
     "name": "stdout",
     "output_type": "stream",
     "text": [
      "Матрица признаков\n",
      "[[230.1]\n",
      " [ 44.5]\n",
      " [ 17.2]\n",
      " [151.5]\n",
      " [180.8]]\n",
      "Зависимая переменная\n",
      "[22.1 10.4  9.3 18.5 12.9]\n"
     ]
    }
   ],
   "source": [
    "X = dataset.iloc[:, 1:2].values\n",
    "y = dataset.iloc[:, 4].values\n",
    "print (\"Матрица признаков\"); print(X[:5])\n",
    "print (\"Зависимая переменная\"); print(y[:5])"
   ]
  },
  {
   "cell_type": "markdown",
   "id": "220b50ec-4809-4111-b0f2-5aec7ded00ea",
   "metadata": {},
   "source": [
    "Разделение выборки на тренировочную и тестовую части"
   ]
  },
  {
   "cell_type": "code",
   "execution_count": 13,
   "id": "4a343f4b-ad80-45ef-83bf-927d2fb63c63",
   "metadata": {},
   "outputs": [],
   "source": [
    "from sklearn.model_selection import train_test_split\n",
    "X_train, X_test, y_train, y_test = train_test_split(X, y, test_size = 1/4, random_state = 0) "
   ]
  },
  {
   "cell_type": "markdown",
   "id": "70d11c95-63ed-4e65-ba33-7a14e5a5a143",
   "metadata": {},
   "source": [
    "Инициализация и обучение линейной регрессионной модели на наборе данных `X_train` и `y_train`."
   ]
  },
  {
   "cell_type": "code",
   "execution_count": 14,
   "id": "be46fa45-f45a-4164-a4da-afe564219833",
   "metadata": {},
   "outputs": [
    {
     "data": {
      "text/html": [
       "<style>#sk-container-id-2 {\n",
       "  /* Definition of color scheme common for light and dark mode */\n",
       "  --sklearn-color-text: black;\n",
       "  --sklearn-color-line: gray;\n",
       "  /* Definition of color scheme for unfitted estimators */\n",
       "  --sklearn-color-unfitted-level-0: #fff5e6;\n",
       "  --sklearn-color-unfitted-level-1: #f6e4d2;\n",
       "  --sklearn-color-unfitted-level-2: #ffe0b3;\n",
       "  --sklearn-color-unfitted-level-3: chocolate;\n",
       "  /* Definition of color scheme for fitted estimators */\n",
       "  --sklearn-color-fitted-level-0: #f0f8ff;\n",
       "  --sklearn-color-fitted-level-1: #d4ebff;\n",
       "  --sklearn-color-fitted-level-2: #b3dbfd;\n",
       "  --sklearn-color-fitted-level-3: cornflowerblue;\n",
       "\n",
       "  /* Specific color for light theme */\n",
       "  --sklearn-color-text-on-default-background: var(--sg-text-color, var(--theme-code-foreground, var(--jp-content-font-color1, black)));\n",
       "  --sklearn-color-background: var(--sg-background-color, var(--theme-background, var(--jp-layout-color0, white)));\n",
       "  --sklearn-color-border-box: var(--sg-text-color, var(--theme-code-foreground, var(--jp-content-font-color1, black)));\n",
       "  --sklearn-color-icon: #696969;\n",
       "\n",
       "  @media (prefers-color-scheme: dark) {\n",
       "    /* Redefinition of color scheme for dark theme */\n",
       "    --sklearn-color-text-on-default-background: var(--sg-text-color, var(--theme-code-foreground, var(--jp-content-font-color1, white)));\n",
       "    --sklearn-color-background: var(--sg-background-color, var(--theme-background, var(--jp-layout-color0, #111)));\n",
       "    --sklearn-color-border-box: var(--sg-text-color, var(--theme-code-foreground, var(--jp-content-font-color1, white)));\n",
       "    --sklearn-color-icon: #878787;\n",
       "  }\n",
       "}\n",
       "\n",
       "#sk-container-id-2 {\n",
       "  color: var(--sklearn-color-text);\n",
       "}\n",
       "\n",
       "#sk-container-id-2 pre {\n",
       "  padding: 0;\n",
       "}\n",
       "\n",
       "#sk-container-id-2 input.sk-hidden--visually {\n",
       "  border: 0;\n",
       "  clip: rect(1px 1px 1px 1px);\n",
       "  clip: rect(1px, 1px, 1px, 1px);\n",
       "  height: 1px;\n",
       "  margin: -1px;\n",
       "  overflow: hidden;\n",
       "  padding: 0;\n",
       "  position: absolute;\n",
       "  width: 1px;\n",
       "}\n",
       "\n",
       "#sk-container-id-2 div.sk-dashed-wrapped {\n",
       "  border: 1px dashed var(--sklearn-color-line);\n",
       "  margin: 0 0.4em 0.5em 0.4em;\n",
       "  box-sizing: border-box;\n",
       "  padding-bottom: 0.4em;\n",
       "  background-color: var(--sklearn-color-background);\n",
       "}\n",
       "\n",
       "#sk-container-id-2 div.sk-container {\n",
       "  /* jupyter's `normalize.less` sets `[hidden] { display: none; }`\n",
       "     but bootstrap.min.css set `[hidden] { display: none !important; }`\n",
       "     so we also need the `!important` here to be able to override the\n",
       "     default hidden behavior on the sphinx rendered scikit-learn.org.\n",
       "     See: https://github.com/scikit-learn/scikit-learn/issues/21755 */\n",
       "  display: inline-block !important;\n",
       "  position: relative;\n",
       "}\n",
       "\n",
       "#sk-container-id-2 div.sk-text-repr-fallback {\n",
       "  display: none;\n",
       "}\n",
       "\n",
       "div.sk-parallel-item,\n",
       "div.sk-serial,\n",
       "div.sk-item {\n",
       "  /* draw centered vertical line to link estimators */\n",
       "  background-image: linear-gradient(var(--sklearn-color-text-on-default-background), var(--sklearn-color-text-on-default-background));\n",
       "  background-size: 2px 100%;\n",
       "  background-repeat: no-repeat;\n",
       "  background-position: center center;\n",
       "}\n",
       "\n",
       "/* Parallel-specific style estimator block */\n",
       "\n",
       "#sk-container-id-2 div.sk-parallel-item::after {\n",
       "  content: \"\";\n",
       "  width: 100%;\n",
       "  border-bottom: 2px solid var(--sklearn-color-text-on-default-background);\n",
       "  flex-grow: 1;\n",
       "}\n",
       "\n",
       "#sk-container-id-2 div.sk-parallel {\n",
       "  display: flex;\n",
       "  align-items: stretch;\n",
       "  justify-content: center;\n",
       "  background-color: var(--sklearn-color-background);\n",
       "  position: relative;\n",
       "}\n",
       "\n",
       "#sk-container-id-2 div.sk-parallel-item {\n",
       "  display: flex;\n",
       "  flex-direction: column;\n",
       "}\n",
       "\n",
       "#sk-container-id-2 div.sk-parallel-item:first-child::after {\n",
       "  align-self: flex-end;\n",
       "  width: 50%;\n",
       "}\n",
       "\n",
       "#sk-container-id-2 div.sk-parallel-item:last-child::after {\n",
       "  align-self: flex-start;\n",
       "  width: 50%;\n",
       "}\n",
       "\n",
       "#sk-container-id-2 div.sk-parallel-item:only-child::after {\n",
       "  width: 0;\n",
       "}\n",
       "\n",
       "/* Serial-specific style estimator block */\n",
       "\n",
       "#sk-container-id-2 div.sk-serial {\n",
       "  display: flex;\n",
       "  flex-direction: column;\n",
       "  align-items: center;\n",
       "  background-color: var(--sklearn-color-background);\n",
       "  padding-right: 1em;\n",
       "  padding-left: 1em;\n",
       "}\n",
       "\n",
       "\n",
       "/* Toggleable style: style used for estimator/Pipeline/ColumnTransformer box that is\n",
       "clickable and can be expanded/collapsed.\n",
       "- Pipeline and ColumnTransformer use this feature and define the default style\n",
       "- Estimators will overwrite some part of the style using the `sk-estimator` class\n",
       "*/\n",
       "\n",
       "/* Pipeline and ColumnTransformer style (default) */\n",
       "\n",
       "#sk-container-id-2 div.sk-toggleable {\n",
       "  /* Default theme specific background. It is overwritten whether we have a\n",
       "  specific estimator or a Pipeline/ColumnTransformer */\n",
       "  background-color: var(--sklearn-color-background);\n",
       "}\n",
       "\n",
       "/* Toggleable label */\n",
       "#sk-container-id-2 label.sk-toggleable__label {\n",
       "  cursor: pointer;\n",
       "  display: block;\n",
       "  width: 100%;\n",
       "  margin-bottom: 0;\n",
       "  padding: 0.5em;\n",
       "  box-sizing: border-box;\n",
       "  text-align: center;\n",
       "}\n",
       "\n",
       "#sk-container-id-2 label.sk-toggleable__label-arrow:before {\n",
       "  /* Arrow on the left of the label */\n",
       "  content: \"▸\";\n",
       "  float: left;\n",
       "  margin-right: 0.25em;\n",
       "  color: var(--sklearn-color-icon);\n",
       "}\n",
       "\n",
       "#sk-container-id-2 label.sk-toggleable__label-arrow:hover:before {\n",
       "  color: var(--sklearn-color-text);\n",
       "}\n",
       "\n",
       "/* Toggleable content - dropdown */\n",
       "\n",
       "#sk-container-id-2 div.sk-toggleable__content {\n",
       "  max-height: 0;\n",
       "  max-width: 0;\n",
       "  overflow: hidden;\n",
       "  text-align: left;\n",
       "  /* unfitted */\n",
       "  background-color: var(--sklearn-color-unfitted-level-0);\n",
       "}\n",
       "\n",
       "#sk-container-id-2 div.sk-toggleable__content.fitted {\n",
       "  /* fitted */\n",
       "  background-color: var(--sklearn-color-fitted-level-0);\n",
       "}\n",
       "\n",
       "#sk-container-id-2 div.sk-toggleable__content pre {\n",
       "  margin: 0.2em;\n",
       "  border-radius: 0.25em;\n",
       "  color: var(--sklearn-color-text);\n",
       "  /* unfitted */\n",
       "  background-color: var(--sklearn-color-unfitted-level-0);\n",
       "}\n",
       "\n",
       "#sk-container-id-2 div.sk-toggleable__content.fitted pre {\n",
       "  /* unfitted */\n",
       "  background-color: var(--sklearn-color-fitted-level-0);\n",
       "}\n",
       "\n",
       "#sk-container-id-2 input.sk-toggleable__control:checked~div.sk-toggleable__content {\n",
       "  /* Expand drop-down */\n",
       "  max-height: 200px;\n",
       "  max-width: 100%;\n",
       "  overflow: auto;\n",
       "}\n",
       "\n",
       "#sk-container-id-2 input.sk-toggleable__control:checked~label.sk-toggleable__label-arrow:before {\n",
       "  content: \"▾\";\n",
       "}\n",
       "\n",
       "/* Pipeline/ColumnTransformer-specific style */\n",
       "\n",
       "#sk-container-id-2 div.sk-label input.sk-toggleable__control:checked~label.sk-toggleable__label {\n",
       "  color: var(--sklearn-color-text);\n",
       "  background-color: var(--sklearn-color-unfitted-level-2);\n",
       "}\n",
       "\n",
       "#sk-container-id-2 div.sk-label.fitted input.sk-toggleable__control:checked~label.sk-toggleable__label {\n",
       "  background-color: var(--sklearn-color-fitted-level-2);\n",
       "}\n",
       "\n",
       "/* Estimator-specific style */\n",
       "\n",
       "/* Colorize estimator box */\n",
       "#sk-container-id-2 div.sk-estimator input.sk-toggleable__control:checked~label.sk-toggleable__label {\n",
       "  /* unfitted */\n",
       "  background-color: var(--sklearn-color-unfitted-level-2);\n",
       "}\n",
       "\n",
       "#sk-container-id-2 div.sk-estimator.fitted input.sk-toggleable__control:checked~label.sk-toggleable__label {\n",
       "  /* fitted */\n",
       "  background-color: var(--sklearn-color-fitted-level-2);\n",
       "}\n",
       "\n",
       "#sk-container-id-2 div.sk-label label.sk-toggleable__label,\n",
       "#sk-container-id-2 div.sk-label label {\n",
       "  /* The background is the default theme color */\n",
       "  color: var(--sklearn-color-text-on-default-background);\n",
       "}\n",
       "\n",
       "/* On hover, darken the color of the background */\n",
       "#sk-container-id-2 div.sk-label:hover label.sk-toggleable__label {\n",
       "  color: var(--sklearn-color-text);\n",
       "  background-color: var(--sklearn-color-unfitted-level-2);\n",
       "}\n",
       "\n",
       "/* Label box, darken color on hover, fitted */\n",
       "#sk-container-id-2 div.sk-label.fitted:hover label.sk-toggleable__label.fitted {\n",
       "  color: var(--sklearn-color-text);\n",
       "  background-color: var(--sklearn-color-fitted-level-2);\n",
       "}\n",
       "\n",
       "/* Estimator label */\n",
       "\n",
       "#sk-container-id-2 div.sk-label label {\n",
       "  font-family: monospace;\n",
       "  font-weight: bold;\n",
       "  display: inline-block;\n",
       "  line-height: 1.2em;\n",
       "}\n",
       "\n",
       "#sk-container-id-2 div.sk-label-container {\n",
       "  text-align: center;\n",
       "}\n",
       "\n",
       "/* Estimator-specific */\n",
       "#sk-container-id-2 div.sk-estimator {\n",
       "  font-family: monospace;\n",
       "  border: 1px dotted var(--sklearn-color-border-box);\n",
       "  border-radius: 0.25em;\n",
       "  box-sizing: border-box;\n",
       "  margin-bottom: 0.5em;\n",
       "  /* unfitted */\n",
       "  background-color: var(--sklearn-color-unfitted-level-0);\n",
       "}\n",
       "\n",
       "#sk-container-id-2 div.sk-estimator.fitted {\n",
       "  /* fitted */\n",
       "  background-color: var(--sklearn-color-fitted-level-0);\n",
       "}\n",
       "\n",
       "/* on hover */\n",
       "#sk-container-id-2 div.sk-estimator:hover {\n",
       "  /* unfitted */\n",
       "  background-color: var(--sklearn-color-unfitted-level-2);\n",
       "}\n",
       "\n",
       "#sk-container-id-2 div.sk-estimator.fitted:hover {\n",
       "  /* fitted */\n",
       "  background-color: var(--sklearn-color-fitted-level-2);\n",
       "}\n",
       "\n",
       "/* Specification for estimator info (e.g. \"i\" and \"?\") */\n",
       "\n",
       "/* Common style for \"i\" and \"?\" */\n",
       "\n",
       ".sk-estimator-doc-link,\n",
       "a:link.sk-estimator-doc-link,\n",
       "a:visited.sk-estimator-doc-link {\n",
       "  float: right;\n",
       "  font-size: smaller;\n",
       "  line-height: 1em;\n",
       "  font-family: monospace;\n",
       "  background-color: var(--sklearn-color-background);\n",
       "  border-radius: 1em;\n",
       "  height: 1em;\n",
       "  width: 1em;\n",
       "  text-decoration: none !important;\n",
       "  margin-left: 1ex;\n",
       "  /* unfitted */\n",
       "  border: var(--sklearn-color-unfitted-level-1) 1pt solid;\n",
       "  color: var(--sklearn-color-unfitted-level-1);\n",
       "}\n",
       "\n",
       ".sk-estimator-doc-link.fitted,\n",
       "a:link.sk-estimator-doc-link.fitted,\n",
       "a:visited.sk-estimator-doc-link.fitted {\n",
       "  /* fitted */\n",
       "  border: var(--sklearn-color-fitted-level-1) 1pt solid;\n",
       "  color: var(--sklearn-color-fitted-level-1);\n",
       "}\n",
       "\n",
       "/* On hover */\n",
       "div.sk-estimator:hover .sk-estimator-doc-link:hover,\n",
       ".sk-estimator-doc-link:hover,\n",
       "div.sk-label-container:hover .sk-estimator-doc-link:hover,\n",
       ".sk-estimator-doc-link:hover {\n",
       "  /* unfitted */\n",
       "  background-color: var(--sklearn-color-unfitted-level-3);\n",
       "  color: var(--sklearn-color-background);\n",
       "  text-decoration: none;\n",
       "}\n",
       "\n",
       "div.sk-estimator.fitted:hover .sk-estimator-doc-link.fitted:hover,\n",
       ".sk-estimator-doc-link.fitted:hover,\n",
       "div.sk-label-container:hover .sk-estimator-doc-link.fitted:hover,\n",
       ".sk-estimator-doc-link.fitted:hover {\n",
       "  /* fitted */\n",
       "  background-color: var(--sklearn-color-fitted-level-3);\n",
       "  color: var(--sklearn-color-background);\n",
       "  text-decoration: none;\n",
       "}\n",
       "\n",
       "/* Span, style for the box shown on hovering the info icon */\n",
       ".sk-estimator-doc-link span {\n",
       "  display: none;\n",
       "  z-index: 9999;\n",
       "  position: relative;\n",
       "  font-weight: normal;\n",
       "  right: .2ex;\n",
       "  padding: .5ex;\n",
       "  margin: .5ex;\n",
       "  width: min-content;\n",
       "  min-width: 20ex;\n",
       "  max-width: 50ex;\n",
       "  color: var(--sklearn-color-text);\n",
       "  box-shadow: 2pt 2pt 4pt #999;\n",
       "  /* unfitted */\n",
       "  background: var(--sklearn-color-unfitted-level-0);\n",
       "  border: .5pt solid var(--sklearn-color-unfitted-level-3);\n",
       "}\n",
       "\n",
       ".sk-estimator-doc-link.fitted span {\n",
       "  /* fitted */\n",
       "  background: var(--sklearn-color-fitted-level-0);\n",
       "  border: var(--sklearn-color-fitted-level-3);\n",
       "}\n",
       "\n",
       ".sk-estimator-doc-link:hover span {\n",
       "  display: block;\n",
       "}\n",
       "\n",
       "/* \"?\"-specific style due to the `<a>` HTML tag */\n",
       "\n",
       "#sk-container-id-2 a.estimator_doc_link {\n",
       "  float: right;\n",
       "  font-size: 1rem;\n",
       "  line-height: 1em;\n",
       "  font-family: monospace;\n",
       "  background-color: var(--sklearn-color-background);\n",
       "  border-radius: 1rem;\n",
       "  height: 1rem;\n",
       "  width: 1rem;\n",
       "  text-decoration: none;\n",
       "  /* unfitted */\n",
       "  color: var(--sklearn-color-unfitted-level-1);\n",
       "  border: var(--sklearn-color-unfitted-level-1) 1pt solid;\n",
       "}\n",
       "\n",
       "#sk-container-id-2 a.estimator_doc_link.fitted {\n",
       "  /* fitted */\n",
       "  border: var(--sklearn-color-fitted-level-1) 1pt solid;\n",
       "  color: var(--sklearn-color-fitted-level-1);\n",
       "}\n",
       "\n",
       "/* On hover */\n",
       "#sk-container-id-2 a.estimator_doc_link:hover {\n",
       "  /* unfitted */\n",
       "  background-color: var(--sklearn-color-unfitted-level-3);\n",
       "  color: var(--sklearn-color-background);\n",
       "  text-decoration: none;\n",
       "}\n",
       "\n",
       "#sk-container-id-2 a.estimator_doc_link.fitted:hover {\n",
       "  /* fitted */\n",
       "  background-color: var(--sklearn-color-fitted-level-3);\n",
       "}\n",
       "</style><div id=\"sk-container-id-2\" class=\"sk-top-container\"><div class=\"sk-text-repr-fallback\"><pre>LinearRegression()</pre><b>In a Jupyter environment, please rerun this cell to show the HTML representation or trust the notebook. <br />On GitHub, the HTML representation is unable to render, please try loading this page with nbviewer.org.</b></div><div class=\"sk-container\" hidden><div class=\"sk-item\"><div class=\"sk-estimator fitted sk-toggleable\"><input class=\"sk-toggleable__control sk-hidden--visually\" id=\"sk-estimator-id-2\" type=\"checkbox\" checked><label for=\"sk-estimator-id-2\" class=\"sk-toggleable__label fitted sk-toggleable__label-arrow fitted\">&nbsp;&nbsp;LinearRegression<a class=\"sk-estimator-doc-link fitted\" rel=\"noreferrer\" target=\"_blank\" href=\"https://scikit-learn.org/1.4/modules/generated/sklearn.linear_model.LinearRegression.html\">?<span>Documentation for LinearRegression</span></a><span class=\"sk-estimator-doc-link fitted\">i<span>Fitted</span></span></label><div class=\"sk-toggleable__content fitted\"><pre>LinearRegression()</pre></div> </div></div></div></div>"
      ],
      "text/plain": [
       "LinearRegression()"
      ]
     },
     "execution_count": 14,
     "metadata": {},
     "output_type": "execute_result"
    }
   ],
   "source": [
    "from sklearn.linear_model import LinearRegression\n",
    "regressor = LinearRegression()\n",
    "regressor.fit(X_train, y_train)"
   ]
  },
  {
   "cell_type": "markdown",
   "id": "d45bfd14-d41b-4dc8-acbf-6b26cc71413a",
   "metadata": {},
   "source": [
    "Предсказание целевых значений на тестовых данных с помощью обученной линейной регрессионной модели и вывод результата."
   ]
  },
  {
   "cell_type": "code",
   "execution_count": 15,
   "id": "8a040be7-2fa0-4b0f-94d7-584eecb896c0",
   "metadata": {},
   "outputs": [
    {
     "name": "stdout",
     "output_type": "stream",
     "text": [
      "[10.44203308  9.55607966 11.42027332 20.61665445 15.10251725  9.84216879\n",
      "  7.65035693 18.32794143  8.34712238 16.36684661 19.30618167 11.27261442\n",
      " 14.4749669  15.91464122 10.77426562 12.79534687 19.50459832  7.28120967\n",
      " 10.69582183 17.09591245 20.51975329 13.72282936 15.32861994 13.32599606\n",
      "  9.71758159 12.92916275 14.89025757 16.70830783 17.58503257  8.40710881\n",
      " 10.37743231 16.42683304 20.20136378 18.40177088  7.85800226  8.111791\n",
      "  9.99905637 15.59163737 10.40511836  8.40249447  8.95160102  8.70242662\n",
      " 13.84280222 16.9205675  17.18819927 11.98783724  7.64574259  8.02873287\n",
      " 13.04913561 12.07550971]\n"
     ]
    }
   ],
   "source": [
    "y_pred = regressor.predict(X_test)\n",
    "print(y_pred)"
   ]
  },
  {
   "cell_type": "markdown",
   "id": "a34a77df-c3b5-4035-a719-34c728cb99bc",
   "metadata": {},
   "source": [
    "Построение графика зависимости веса от роста. Точечный красный график обучающих данных, а также синий график линии регрессии, полученной на основе обученной модели"
   ]
  },
  {
   "cell_type": "code",
   "execution_count": 16,
   "id": "61c187d4-f98e-4755-80bb-7ef53f9daabe",
   "metadata": {},
   "outputs": [
    {
     "data": {
      "image/png": "[encoded data removed]",
      "text/plain": [
       "<Figure size 640x480 with 1 Axes>"
      ]
     },
     "metadata": {},
     "output_type": "display_data"
    }
   ],
   "source": [
    "plt.scatter(X_train, y_train, color = 'red')\n",
    "plt.plot(X_train, regressor.predict(X_train), color = 'blue')\n",
    "plt.title('Weight VS Height (Training set)')\n",
    "plt.xlabel('Height')\n",
    "plt.ylabel('Weight')\n",
    "plt.show()"
   ]
  },
  {
   "cell_type": "markdown",
   "id": "430a4158-e592-41fd-9185-1d8681145cdc",
   "metadata": {},
   "source": [
    "Такой же график, но на тестовом датасете"
   ]
  },
  {
   "cell_type": "code",
   "execution_count": 18,
   "id": "9f2b1d0c-3a6c-4a5f-a87a-d7424e54a633",
   "metadata": {},
   "outputs": [
    {
     "data": {
      "image/png": "[encoded data removed]",
      "text/plain": [
       "<Figure size 640x480 with 1 Axes>"
      ]
     },
     "metadata": {},
     "output_type": "display_data"
    }
   ],
   "source": [
    "plt.scatter(X_test, y_test, color = 'red')\n",
    "plt.plot(X_train, regressor.predict(X_train), color = 'blue')\n",
    "plt.title('Weight VS Height (Training set)')\n",
    "plt.xlabel('Height')\n",
    "plt.ylabel('Weight')\n",
    "plt.show()"
   ]
  },
  {
   "cell_type": "markdown",
   "id": "68d5afaf-8714-485e-95e2-b1befde4577a",
   "metadata": {},
   "source": [
    "## Контрольные вопросы"
   ]
  },
  {
   "cell_type": "markdown",
   "id": "74e04439-5523-45e5-baef-ce3207d2dd80",
   "metadata": {},
   "source": [
    "### **1. Почему при реализации линейной модели регрессии нет необходимости выполнять масштабирование признаков?**"
   ]
  },
  {
   "cell_type": "markdown",
   "id": "f1c59f01-959f-415e-bc9f-ad394bc8d6d4",
   "metadata": {},
   "source": [
    "При реализации линейной модели регрессии нет необходимости выполнять масштабирование признаков, потому что коэффициенты модели линейной регрессии изменяются пропорционально масштабу признаков, их абсолютные значения не влияют на результат."
   ]
  },
  {
   "cell_type": "markdown",
   "id": "209b7ceb-ea9c-4d32-b5d8-8ad4ae70aac9",
   "metadata": {},
   "source": [
    "### **2. Почему при реализации модели линейной регрессии в качестве функции потерь используется квадратичное отклонение, а не модуль отклонения?**"
   ]
  },
  {
   "cell_type": "markdown",
   "id": "b61e8185-45df-4341-ace9-32d1621e23ed",
   "metadata": {},
   "source": [
    "При реализации модели линейной регрессии используется квадратичное отклонение в качестве функции потерь, так как оно обладает хорошими математическими свойствами, такими как дифференцируемость и выпуклость, что упрощает процесс оптимизации."
   ]
  },
  {
   "cell_type": "markdown",
   "id": "e09299a4-1487-4c89-bda4-3992e797c61d",
   "metadata": {},
   "source": [
    "### **3. Что именно реализовано в методе fit(X, y) класса LinearRegression?**"
   ]
  },
  {
   "cell_type": "markdown",
   "id": "d3e8ebeb-552c-4206-9341-71640a93f079",
   "metadata": {},
   "source": [
    "Метод fit(X, y) класса LinearRegression реализует процесс обучения модели линейной регрессии, где X - матрица признаков, y - вектор целевых значений. Метод подбирает оптимальные коэффициенты модели, минимизируя функцию потерь."
   ]
  },
  {
   "cell_type": "markdown",
   "id": "ac998212-d939-42e7-b0b2-487516265705",
   "metadata": {},
   "source": [
    "### **4. Что такое р-значение? Как р-значение используется при оптимизации моделей регрессии?**"
   ]
  },
  {
   "cell_type": "markdown",
   "id": "bca54fff-5c12-4a20-82a9-11343001f32d",
   "metadata": {},
   "source": [
    "Р-значение (p-value) - это вероятность получить такие или более экстремальные результаты, если нулевая гипотеза верна. В контексте оптимизации моделей регрессии, р-значение используется для оценки статистической значимости коэффициентов модели и их влияния на целевую переменную."
   ]
  },
  {
   "cell_type": "markdown",
   "id": "1dc56305-9e10-47e3-a55e-20f5144cae19",
   "metadata": {},
   "source": [
    "### **5. Поясните назначение метода predict класса LinearRegression.**"
   ]
  },
  {
   "cell_type": "markdown",
   "id": "47dd6742-da6b-45a7-a82e-c98bb3bbdc7b",
   "metadata": {},
   "source": [
    "Метод predict класса LinearRegression используется для предсказания целевых значений на основе входных признаков. После обучения модели с помощью метода fit, метод predict позволяет получить прогнозы для новых данных."
   ]
  },
  {
   "cell_type": "markdown",
   "id": "9391c424-2a8b-44d5-8708-b17ec3c62b69",
   "metadata": {},
   "source": [
    "### **6. Поясните назначение метода plot и scatter класса pyplot.**"
   ]
  },
  {
   "cell_type": "markdown",
   "id": "39d7b8a3-5684-4929-808d-e492fa615fbb",
   "metadata": {},
   "source": [
    "Метод plot класса pyplot используется для создания графиков, визуализации данных и результатов моделирования. Метод scatter используется для построения точечной диаграммы, где каждая точка представляет пару значений."
   ]
  },
  {
   "cell_type": "markdown",
   "id": "aa815f69-d2f7-40fc-a165-32e6dcb0b380",
   "metadata": {},
   "source": [
    "### **7. По какой подвыборке необходимо оценивать точность модели машинного обучения: тестовой или тренировочной?**"
   ]
  },
  {
   "cell_type": "markdown",
   "id": "b37a1bfc-2a2f-438c-85fa-4f39c2689725",
   "metadata": {},
   "source": [
    "Точность модели машинного обучения необходимо оценивать на тестовой подвыборке, чтобы оценить ее способность обобщения на новые данные. Оценка на тренировочной выборке может привести к переобучению и недооценке реальной производительности модели."
   ]
  },
  {
   "cell_type": "markdown",
   "id": "69e8a01e-3831-4bfd-8d43-a5d80f354e23",
   "metadata": {},
   "source": [
    "## Вывод"
   ]
  },
  {
   "cell_type": "markdown",
   "id": "e8f5bced-a580-4a81-b0b6-a87d0a60ddf2",
   "metadata": {},
   "source": [
    "Разработан единый пайплайн для решения задачи регрессии.Реализован конвейер для выполнения всех стадий обработки данных при решении задачи одномерной регрессии. Изучены теоретические основы задачи регрессии. Получены навыки использования пайплайна при решении задач машинного обучения. Получены навыки рефакторинга кода в задачах машинного обучения."
   ]
  }
 ],
 "metadata": {
  "kernelspec": {
   "display_name": "Python 3 (ipykernel)",
   "language": "python",
   "name": "python3"
  },
  "language_info": {
   "codemirror_mode": {
    "name": "ipython",
    "version": 3
   },
   "file_extension": ".py",
   "mimetype": "text/x-python",
   "name": "python",
   "nbconvert_exporter": "python",
   "pygments_lexer": "ipython3",
   "version": "3.11.4"
  }
 },
 "nbformat": 4,
 "nbformat_minor": 5
}
