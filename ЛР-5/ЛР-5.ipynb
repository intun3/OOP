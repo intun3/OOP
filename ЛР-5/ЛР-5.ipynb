{
 "cells": [
  {
   "cell_type": "markdown",
   "id": "3b5c1845-0296-4d9f-b867-9e6527c08400",
   "metadata": {},
   "source": [
    "# **Лабораторная работа №5** \"Логистическая регрессия\"\n",
    "# **Выполнил: Дякин Владимир; группа: ПИН-б-о-22-1**"
   ]
  },
  {
   "cell_type": "markdown",
   "id": "53a83d27-6e8c-4d45-8ffc-f553a7dd5147",
   "metadata": {},
   "source": [
    "## Ссылка на используемый датасет: https://archive.ics.uci.edu/dataset/15/breast+cancer+wisconsin+original"
   ]
  },
  {
   "cell_type": "markdown",
   "id": "d4e4a700-f9c5-4900-961f-ef4899057f75",
   "metadata": {},
   "source": [
    "## **Первичный анализ**"
   ]
  },
  {
   "cell_type": "markdown",
   "id": "7f49ffc3-650a-40b5-a1b6-42f5a5ffd18a",
   "metadata": {},
   "source": [
    "### Общее описание набора данных \"Breast Cancer Wisconsin (Original)\"\n",
    "\n",
    "Данный набор данных содержит информацию о биопсиях молочных желез и классификации опухолей на доброкачественные и злокачественные. Набор данных включает 699 экземпляров с 10 признаками, из которых 9 являются численными, а один - идентификационным номером.\n",
    "\n",
    "### Описание признаков\n",
    "\n",
    "1. **Clump Thickness** - толщина образования\n",
    "2. **Uniformity of Cell Size** - однородность размера клеток\n",
    "3. **Uniformity of Cell Shape** - однородность формы клеток\n",
    "4. **Marginal Adhesion** - граничное сцепление\n",
    "5. **Single Epithelial Cell Size** - размер одиночной эпителиальной клетки\n",
    "6. **Bare Nuclei** - обнаженные ядра\n",
    "7. **Bland Chromatin** - бледная хроматина\n",
    "8. **Normal Nucleoli** - нормальные нуклеолы\n",
    "9. **Mitoses** - митозы\n",
    "10. **Class** - класс (2 - доброкачественная опухоль, 4 - злокачественная опухоль)\n",
    "\n",
    "### Характеристики данных\n",
    "\n",
    "- Количество элементов (Instances): 699\n",
    "- Количество признаков (Features): 10\n",
    "- Связанные задачи: Двоичная классификация (доброкачественная или злокачественная опухоль)\n",
    "- Характеристики набора данных: Многомерные (Multivariate)\n",
    "- Тип признаков: Численные (Numeric)\n",
    "\n",
    "### Распределение классов\n",
    "\n",
    "Данный набор данных содержит 2 класса, соответствующие доброкачественным и злокачественным опухолям. Распределение классов следующее:\n",
    "- Доброкачественная опухоль (Class 2): 458 экземпляров\n",
    "- Злокачественная опухоль (Class 4): 241 экземпляр\n",
    "\n",
    "Это показывает, что данные несбалансированы, с большинством экземпляров принадлежащих к классу доброкачественных опухолей. Необходимо учитывать это при построении моделей классификации для избежания смещения в сторону доминирующего класса.\n",
    "\n",
    "Таким образом, данный набор данных \"Breast Cancer Wisconsin (Original)\" представляет интерес для разработки моделей классификации опухолей молочных желез на доброкачественные и злокачественные на основе предоставленных признаков."
   ]
  },
  {
   "cell_type": "markdown",
   "id": "fddfef4d-ea61-4605-9e38-57bdb103baa5",
   "metadata": {},
   "source": [
    "## Задание"
   ]
  },
  {
   "cell_type": "markdown",
   "id": "7549781c-280a-43fc-982c-f2e619941827",
   "metadata": {},
   "source": [
    "Импорт необходимых библиотек и модулей для работы с данными, визуализацией, машинным обучением и метрикой качества. Отключение вывода предупреждений."
   ]
  },
  {
   "cell_type": "code",
   "execution_count": 1,
   "id": "071c96bc-5508-4f20-b355-e34d875ac090",
   "metadata": {},
   "outputs": [],
   "source": [
    "from __future__ import division, print_function\n",
    "\n",
    "import pickle\n",
    "\n",
    "import seaborn as sns\n",
    "import numpy as np\n",
    "import pandas as pd\n",
    "\n",
    "from matplotlib import pyplot as plt\n",
    "from sklearn.model_selection import train_test_split\n",
    "from scipy.sparse import csr_matrix\n",
    "from scipy.sparse import hstack\n",
    "from sklearn.preprocessing import StandardScaler\n",
    "from sklearn.metrics import roc_auc_score\n",
    "from sklearn.linear_model import LogisticRegression\n",
    "from sklearn.preprocessing import LabelEncoder\n",
    "from sklearn.model_selection import cross_val_score\n",
    "from sklearn.model_selection import cross_val_score\n",
    "from sklearn.linear_model import LogisticRegression\n",
    "from sklearn.metrics import roc_auc_score\n",
    "\n",
    "warnings.filterwarnings('ignore')"
   ]
  },
  {
   "cell_type": "markdown",
   "id": "c7615445-3d8a-4d3e-a50f-b119245547ad",
   "metadata": {},
   "source": [
    "Загрузка данных о раке молочной железы из CSV-файла в DataFrame df, с назначением имен столбцам, затем вывод первых 5 строк DataFrame."
   ]
  },
  {
   "cell_type": "code",
   "execution_count": 2,
   "id": "b3fded97-edef-48a4-b71f-4b0b53034df9",
   "metadata": {},
   "outputs": [
    {
     "data": {
      "text/html": [
       "<div>\n",
       "<style scoped>\n",
       "    .dataframe tbody tr th:only-of-type {\n",
       "        vertical-align: middle;\n",
       "    }\n",
       "\n",
       "    .dataframe tbody tr th {\n",
       "        vertical-align: top;\n",
       "    }\n",
       "\n",
       "    .dataframe thead th {\n",
       "        text-align: right;\n",
       "    }\n",
       "</style>\n",
       "<table border=\"1\" class=\"dataframe\">\n",
       "  <thead>\n",
       "    <tr style=\"text-align: right;\">\n",
       "      <th></th>\n",
       "      <th>Sample_code_number</th>\n",
       "      <th>Clump_thickness</th>\n",
       "      <th>Uniformity_of_cell_size</th>\n",
       "      <th>Uniformity_of_cell_shape</th>\n",
       "      <th>Marginal_adhesion</th>\n",
       "      <th>Single_epithelial_cell_size</th>\n",
       "      <th>Bare_nuclei</th>\n",
       "      <th>Bland_chromatin</th>\n",
       "      <th>Normal_nucleoli</th>\n",
       "      <th>Mitoses</th>\n",
       "      <th>Class</th>\n",
       "    </tr>\n",
       "  </thead>\n",
       "  <tbody>\n",
       "    <tr>\n",
       "      <th>0</th>\n",
       "      <td>1000025</td>\n",
       "      <td>5</td>\n",
       "      <td>1</td>\n",
       "      <td>1</td>\n",
       "      <td>1</td>\n",
       "      <td>2</td>\n",
       "      <td>1</td>\n",
       "      <td>3</td>\n",
       "      <td>1</td>\n",
       "      <td>1</td>\n",
       "      <td>2</td>\n",
       "    </tr>\n",
       "    <tr>\n",
       "      <th>1</th>\n",
       "      <td>1002945</td>\n",
       "      <td>5</td>\n",
       "      <td>4</td>\n",
       "      <td>4</td>\n",
       "      <td>5</td>\n",
       "      <td>7</td>\n",
       "      <td>10</td>\n",
       "      <td>3</td>\n",
       "      <td>2</td>\n",
       "      <td>1</td>\n",
       "      <td>2</td>\n",
       "    </tr>\n",
       "    <tr>\n",
       "      <th>2</th>\n",
       "      <td>1015425</td>\n",
       "      <td>3</td>\n",
       "      <td>1</td>\n",
       "      <td>1</td>\n",
       "      <td>1</td>\n",
       "      <td>2</td>\n",
       "      <td>2</td>\n",
       "      <td>3</td>\n",
       "      <td>1</td>\n",
       "      <td>1</td>\n",
       "      <td>2</td>\n",
       "    </tr>\n",
       "    <tr>\n",
       "      <th>3</th>\n",
       "      <td>1016277</td>\n",
       "      <td>6</td>\n",
       "      <td>8</td>\n",
       "      <td>8</td>\n",
       "      <td>1</td>\n",
       "      <td>3</td>\n",
       "      <td>4</td>\n",
       "      <td>3</td>\n",
       "      <td>7</td>\n",
       "      <td>1</td>\n",
       "      <td>2</td>\n",
       "    </tr>\n",
       "    <tr>\n",
       "      <th>4</th>\n",
       "      <td>1017023</td>\n",
       "      <td>4</td>\n",
       "      <td>1</td>\n",
       "      <td>1</td>\n",
       "      <td>3</td>\n",
       "      <td>2</td>\n",
       "      <td>1</td>\n",
       "      <td>3</td>\n",
       "      <td>1</td>\n",
       "      <td>1</td>\n",
       "      <td>2</td>\n",
       "    </tr>\n",
       "  </tbody>\n",
       "</table>\n",
       "</div>"
      ],
      "text/plain": [
       "   Sample_code_number  Clump_thickness  Uniformity_of_cell_size  \\\n",
       "0             1000025                5                        1   \n",
       "1             1002945                5                        4   \n",
       "2             1015425                3                        1   \n",
       "3             1016277                6                        8   \n",
       "4             1017023                4                        1   \n",
       "\n",
       "   Uniformity_of_cell_shape  Marginal_adhesion  Single_epithelial_cell_size  \\\n",
       "0                         1                  1                            2   \n",
       "1                         4                  5                            7   \n",
       "2                         1                  1                            2   \n",
       "3                         8                  1                            3   \n",
       "4                         1                  3                            2   \n",
       "\n",
       "   Bare_nuclei  Bland_chromatin  Normal_nucleoli  Mitoses  Class  \n",
       "0            1                3                1        1      2  \n",
       "1           10                3                2        1      2  \n",
       "2            2                3                1        1      2  \n",
       "3            4                3                7        1      2  \n",
       "4            1                3                1        1      2  "
      ]
     },
     "execution_count": 2,
     "metadata": {},
     "output_type": "execute_result"
    }
   ],
   "source": [
    "df = pd.read_csv('breast_cancer.csv', header=None, names=['Sample_code_number', 'Clump_thickness', 'Uniformity_of_cell_size', 'Uniformity_of_cell_shape', 'Marginal_adhesion', 'Single_epithelial_cell_size', 'Bare_nuclei', 'Bland_chromatin', 'Normal_nucleoli', 'Mitoses', 'Class'])\n",
    "df.head()"
   ]
  },
  {
   "cell_type": "markdown",
   "id": "1dd05bbe-5364-4e50-856a-6ae7cba82be0",
   "metadata": {},
   "source": [
    "Разделение данных из DataFrame df на признаки X и целевую переменную y, затем разделение признаков и целевой переменной на обучающую и тестовую выборки."
   ]
  },
  {
   "cell_type": "code",
   "execution_count": 5,
   "id": "e5589a4a-47f4-4cae-b849-000062a7ae38",
   "metadata": {},
   "outputs": [],
   "source": [
    "X = df[['Sample_code_number', 'Clump_thickness', 'Uniformity_of_cell_size', 'Uniformity_of_cell_shape', 'Marginal_adhesion', 'Single_epithelial_cell_size', 'Bare_nuclei', 'Bland_chromatin', 'Normal_nucleoli', 'Mitoses']]\n",
    "y = df['Class']\n",
    "X_train, X_test, y_train, y_test = train_test_split(X, y, test_size=0.1, random_state=17)"
   ]
  },
  {
   "cell_type": "markdown",
   "id": "9fe975cb-73b1-421a-8554-551928b7496c",
   "metadata": {},
   "source": [
    "Построение, оценка и вывод оценки модели LogisticRegression стартового датасета"
   ]
  },
  {
   "cell_type": "code",
   "execution_count": 15,
   "id": "d8586fee-6f32-4d37-a74c-8578f728adf1",
   "metadata": {},
   "outputs": [
    {
     "name": "stdout",
     "output_type": "stream",
     "text": [
      "Оценка модели: 0.9635346605685589\n"
     ]
    }
   ],
   "source": [
    "model_without_new = LogisticRegression(max_iter=1000)\n",
    "model_without_new.fit(X_train, y_train)\n",
    "roc = roc_auc_score(y_train, model_without_new.predict(X_train))\n",
    "print('Оценка модели:', roc)"
   ]
  },
  {
   "cell_type": "markdown",
   "id": "d5b883e2-0d0f-469c-b54a-b4e6e90998bf",
   "metadata": {},
   "source": [
    "Создание новых синтетических признаков"
   ]
  },
  {
   "cell_type": "code",
   "execution_count": 16,
   "id": "c9e87c23-b361-4a55-bcf8-30c56c4df2e7",
   "metadata": {},
   "outputs": [],
   "source": [
    "X_train['new_feature1'] = X_train['Uniformity_of_cell_size'] + X_train['Uniformity_of_cell_shape']\n",
    "X_train['new_feature2'] = X_train['Marginal_adhesion'] + X_train['Single_epithelial_cell_size']\n",
    "X_test['new_feature1'] = X_test['Uniformity_of_cell_size'] + X_test['Uniformity_of_cell_shape']\n",
    "X_test['new_feature2'] = X_test['Marginal_adhesion'] + X_test['Single_epithelial_cell_size']\n",
    "\n",
    "X_train_new = X_train.copy()\n",
    "X_test_new = X_test.copy()\n",
    "\n",
    "X_train_new['new_feature1'] = X_train_new['Uniformity_of_cell_size'] + X_train_new['Uniformity_of_cell_shape']\n",
    "X_train_new['new_feature2'] = X_train_new['Marginal_adhesion'] + X_train_new['Single_epithelial_cell_size']\n",
    "\n",
    "X_test_new['new_feature1'] = X_test_new['Uniformity_of_cell_size'] + X_test_new['Uniformity_of_cell_shape']\n",
    "X_test_new['new_feature2'] = X_test_new['Marginal_adhesion'] + X_test_new['Single_epithelial_cell_size']"
   ]
  },
  {
   "cell_type": "markdown",
   "id": "59065192-a00b-4f74-a5f2-efe0d094d77d",
   "metadata": {},
   "source": [
    "Построение, оценка и вывод оценки модели с новыми признаками"
   ]
  },
  {
   "cell_type": "code",
   "execution_count": 17,
   "id": "58b420e8-b06f-4081-9e17-2be72a061667",
   "metadata": {},
   "outputs": [
    {
     "name": "stdout",
     "output_type": "stream",
     "text": [
      "Оценка модели с новыми признками: 0.9351179266433505\n"
     ]
    }
   ],
   "source": [
    "model_new = LogisticRegression()\n",
    "model_new.fit(X_train_new, y_train)\n",
    "roc_new = roc_auc_score(y_train, model_new.predict(X_train_new))\n",
    "print('Оценка модели с новыми признками:', roc_new)"
   ]
  },
  {
   "cell_type": "markdown",
   "id": "f1b775d3-189b-43a9-84b9-11179ff5c2ef",
   "metadata": {},
   "source": [
    "Масштабирование признаков"
   ]
  },
  {
   "cell_type": "code",
   "execution_count": 18,
   "id": "d321aeee-69cc-4f14-91a0-d8ff66847188",
   "metadata": {},
   "outputs": [],
   "source": [
    "scaler = StandardScaler()\n",
    "X_train_new_scaled = scaler.fit_transform(X_train_new)"
   ]
  },
  {
   "cell_type": "markdown",
   "id": "7933e32b-4509-4b03-8ed5-fac247c6a1f1",
   "metadata": {},
   "source": [
    "Построение, оценка и вывод оценки модели с масштабированными признаками"
   ]
  },
  {
   "cell_type": "code",
   "execution_count": 20,
   "id": "db2818f6-ff7b-4a07-919d-fea14e8e738d",
   "metadata": {},
   "outputs": [
    {
     "name": "stdout",
     "output_type": "stream",
     "text": [
      "Оценка модели с масштабированными признками: 0.9635346605685589\n"
     ]
    }
   ],
   "source": [
    "model_new_scaled = LogisticRegression()\n",
    "model_new_scaled.fit(X_train_new_scaled, y_train)\n",
    "roc_new_scaled = roc_auc_score(y_train, model_new_scaled.predict(X_train_new_scaled))\n",
    "print('Оценка модели с масштабированными признками:', roc_new_scaled)"
   ]
  },
  {
   "cell_type": "code",
   "execution_count": null,
   "id": "f22376ad-6f49-4290-8214-d27efddbf7fb",
   "metadata": {},
   "outputs": [],
   "source": [
    "Перебор различных значений гиперпараметра C для логистической регрессии, вычисление значения метрики AUROC на обучающей выборке и определение оптимального значения C."
   ]
  },
  {
   "cell_type": "code",
   "execution_count": 21,
   "id": "9c56ffb4-f69c-4bfe-a4bd-033c0320187f",
   "metadata": {},
   "outputs": [
    {
     "name": "stdout",
     "output_type": "stream",
     "text": [
      "C = 0.001 -> AUC ROC-кривой на тренировочном наборе: 0.879\n",
      "C = 0.0027825594022071257 -> AUC ROC-кривой на тренировочном наборе: 0.922\n",
      "C = 0.007742636826811269 -> AUC ROC-кривой на тренировочном наборе: 0.939\n",
      "C = 0.021544346900318832 -> AUC ROC-кривой на тренировочном наборе: 0.952\n",
      "C = 0.05994842503189409 -> AUC ROC-кривой на тренировочном наборе: 0.961\n",
      "C = 0.1668100537200059 -> AUC ROC-кривой на тренировочном наборе: 0.961\n",
      "C = 0.46415888336127775 -> AUC ROC-кривой на тренировочном наборе: 0.964\n",
      "C = 1.2915496650148828 -> AUC ROC-кривой на тренировочном наборе: 0.964\n",
      "C = 3.593813663804626 -> AUC ROC-кривой на тренировочном наборе: 0.964\n",
      "C = 10.0 -> AUC ROC-кривой на тренировочном наборе: 0.964\n",
      "Оптимальное значение C: 0.464\n"
     ]
    }
   ],
   "source": [
    "Cs = np.logspace(-3, 1, 10)\n",
    "scores = []\n",
    "\n",
    "for C in Cs:\n",
    "    model = LogisticRegression(C=C)\n",
    "    model.fit(X_train_new_scaled, y_train)\n",
    "    roc_auc = roc_auc_score(y_train, model.predict(X_train_new_scaled))\n",
    "    scores.append(roc_auc)\n",
    "    print(f\"C = {C} -> AUC ROC-кривой на тренировочном наборе: {roc_auc:.3f}\")\n",
    "\n",
    "best_C = Cs[np.argmax(scores)]\n",
    "print(f\"Оптимальное значение C: {best_C:.3f}\")\n"
   ]
  },
  {
   "cell_type": "markdown",
   "id": "47e4033a-382b-43b2-bcaa-fb9d3f4c78b7",
   "metadata": {},
   "source": [
    "Построение графика зависимости метрики AUROC от значения гиперпараметра C для логистической регрессии."
   ]
  },
  {
   "cell_type": "code",
   "execution_count": 22,
   "id": "08f69acf-c7a1-46fa-ac97-07534382a483",
   "metadata": {},
   "outputs": [
    {
     "data": {
      "image/png": "[encoded data removed]",
      "text/plain": [
       "<Figure size 640x480 with 1 Axes>"
      ]
     },
     "metadata": {},
     "output_type": "display_data"
    }
   ],
   "source": [
    "plt.plot(Cs, scores, 'ro-')\n",
    "plt.xscale('log')\n",
    "plt.xlabel('C')\n",
    "plt.ylabel('AUC-ROC')\n",
    "plt.title('Подбор коэфициента гиперпараметра C')\n",
    "plt.axhline(y=roc_new_scaled, linewidth=.5, color='b', linestyle='dashed')\n",
    "plt.show()"
   ]
  },
  {
   "cell_type": "markdown",
   "id": "83a6aba5-7def-4597-b632-4f1937afffe4",
   "metadata": {},
   "source": [
    "## Контрольные вопросы"
   ]
  },
  {
   "cell_type": "markdown",
   "id": "107b57b1-1329-474d-946e-3abce8080263",
   "metadata": {},
   "source": [
    "### **1. Какие методы классификации являются линейными? Укажите основные параметры линейной модели классификации.**"
   ]
  },
  {
   "cell_type": "markdown",
   "id": "e1c138fd-1a09-4833-9990-e1f0f25813eb",
   "metadata": {},
   "source": [
    "Линейные методы классификации включают в себя следующие алгоритмы:\n",
    "\n",
    "1. Логистическая регрессия (Logistic Regression)\n",
    "2. Линейный дискриминантный анализ (Linear Discriminant Analysis)\n",
    "3. Линейный метод опорных векторов (Linear Support Vector Machine)\n",
    "\n",
    "Основные параметры линейной модели классификации:\n",
    "\n",
    "1. **Свободный член (intercept)**: Константное значение, добавляемое к линейной комбинации признаков.\n",
    "2. **Коэффициенты признаков (coefficients)**: Веса, определяющие важность каждого признака в модели.\n",
    "3. **Функция потерь (loss function)**: Функция, которая измеряет ошибку между предсказанными и фактическими значениями.\n",
    "4. **Регуляризация (regularization)**: Метод контроля переобучения путем добавления штрафа за сложность модели.\n",
    "5. **Оптимизатор (optimizer)**: Алгоритм оптимизации, используемый для обучения модели.\n",
    "\n",
    "Линейные модели классификации хорошо работают в случаях, когда зависимость между признаками и целевой переменной линейна или близка к линейной. Они являются простыми, интерпретируемыми и эффективными для больших объемов данных."
   ]
  },
  {
   "cell_type": "markdown",
   "id": "314ee22c-92e7-4d2e-a2c3-47d1f407219a",
   "metadata": {},
   "source": [
    "### **2. Что такое гиперпараметры линейной модели?**"
   ]
  },
  {
   "cell_type": "markdown",
   "id": "cab6e7ab-2b47-4df7-bc2d-b26cde3bf49a",
   "metadata": {},
   "source": [
    "Гиперпараметры линейной модели - это параметры модели, которые не могут быть обучены непосредственно из данных во время процесса обучения. Гиперпараметры должны быть настроены до начала обучения модели и они остаются постоянными в течение всего процесса обучения. Гиперпараметры влияют на процесс обучения модели и на ее способность обобщения на новые данные.\n",
    "\n",
    "Примеры гиперпараметров линейной модели:\n",
    "\n",
    "1. **Параметр регуляризации (regularization parameter)**: Определяет степень регуляризации модели. Увеличение параметра регуляризации уменьшает переобучение, но может привести к недообучению.\n",
    "   \n",
    "2. **Тип регуляризации (regularization type)**: Может быть L1 (Lasso) или L2 (Ridge). L1-регуляризация использует штраф на сумму абсолютных значений весов, тогда как L2-регуляризация использует штраф на сумму квадратов весов.\n",
    "\n",
    "3. **Скорость обучения (learning rate)**: Определяет размер шага при обновлении весов модели в процессе оптимизации. Выбор оптимальной скорости обучения важен для сходимости модели.\n",
    "\n",
    "4. **Количество эпох (number of epochs)**: Количество итераций обучения, которые модель должна выполнить на всем наборе данных.\n",
    "\n",
    "5. **Батч-размер (batch size)**: Количество образцов, используемых для обновления весов модели за одну итерацию обучения.\n",
    "\n",
    "Настройка гиперпараметров линейной модели является важным этапом при построении модели, так как правильный выбор гиперпараметров может значительно повлиять на качество модели и ее способность обобщения на новые данные."
   ]
  },
  {
   "cell_type": "markdown",
   "id": "8c41ccf9-5ffb-45d7-85cc-e86a88cc1e12",
   "metadata": {},
   "source": [
    "### **3. Поясните назначение и принципы реализации методов стохастического градиента.**"
   ]
  },
  {
   "cell_type": "markdown",
   "id": "94d4850e-c97d-4286-a1d2-90ebe725b3c5",
   "metadata": {},
   "source": [
    "Методы стохастического градиента (Stochastic Gradient Descent, SGD) являются популярными методами оптимизации, используемыми для обучения моделей машинного обучения. Они основаны на градиентном спуске, который является общим методом оптимизации для минимизации функции потерь.\n",
    "\n",
    "**Назначение методов стохастического градиента:**\n",
    "\n",
    "1. **Обучение моделей:** Методы стохастического градиента используются для обновления параметров модели с целью минимизации функции потерь на обучающем наборе данных.\n",
    "   \n",
    "2. **Ускорение обучения:** Поскольку градиенты вычисляются на подмножествах данных (mini-batches), SGD может быть более эффективным и быстрым для обучения на больших объемах данных.\n",
    "\n",
    "**Принципы реализации методов стохастического градиента:**\n",
    "\n",
    "1. **Стохастичность (Stochasticity):** Градиент вычисляется на основе случайно выбранного подмножества данных (mini-batch) вместо полного набора данных. Это позволяет ускорить процесс обучения и обрабатывать большие объемы данных.\n",
    "\n",
    "2. **Шаг обучения (Learning Rate):** Определяет размер шага при обновлении весов модели. Выбор оптимальной скорости обучения важен для сходимости модели. Слишком большой шаг может привести к осцилляциям, а слишком маленький - к медленной сходимости.\n",
    "\n",
    "3. **Регуляризация (Regularization):** Методы стохастического градиента могут использовать L1 или L2 регуляризацию для предотвращения переобучения модели.\n",
    "\n",
    "4. **Момент (Momentum):** Дополнительный параметр, который учитывает предыдущие обновления весов для ускорения сходимости и предотвращения осцилляций.\n",
    "\n",
    "5. **Адаптивный шаг обучения (Adaptive Learning Rate):** Некоторые варианты SGD, такие как Adam и RMSprop, адаптивно изменяют скорость обучения для каждого параметра в процессе обучения.\n",
    "\n",
    "Методы стохастического градиента широко применяются в глубоком обучении и других областях машинного обучения благодаря их эффективности и скорости обучения на больших объемах данных."
   ]
  },
  {
   "cell_type": "markdown",
   "id": "067be645-7fe1-40b0-a239-e2d62f2ec4da",
   "metadata": {},
   "source": [
    "### **4. Что такое \"линейно разделимая выборка\"?**"
   ]
  },
  {
   "cell_type": "markdown",
   "id": "d073bc30-3126-4ca2-b8d3-47a91a2394e3",
   "metadata": {},
   "source": [
    "\"Линейно разделимая выборка\" - это термин, используемый в контексте задач классификации, чтобы описать выборку данных, которая может быть идеально разделена линейной гиперплоскостью на два класса. Другими словами, существует прямая (в двумерном случае) или гиперплоскость (в многомерном случае), которая может точно разделить объекты разных классов без ошибок.\n",
    "\n",
    "Основные характеристики линейно разделимой выборки:\n",
    "\n",
    "1. **Линейная разделимость:** Объекты разных классов можно идеально разделить линейной гиперплоскостью без ошибок классификации.\n",
    "\n",
    "2. **Отсутствие перекрывающихся областей:** Объекты каждого класса находятся в отдельных областях пространства признаков, и нет перекрывающихся областей между классами.\n",
    "\n",
    "3. **Простота классификации:** Из-за четкого разделения классов линейно разделимая выборка обеспечивает простоту классификации и высокую точность модели.\n",
    "\n",
    "4. **Идеальная разделимость:** В идеальном случае линейно разделимая выборка позволяет модели безошибочно классифицировать объекты на основе их признаков.\n",
    "\n",
    "Хотя понятие линейно разделимой выборки полезно для понимания основ классификации, в реальных задачах часто встречаются выборки, которые не являются линейно разделимыми. В таких случаях могут использоваться более сложные модели классификации, такие как ядерные методы опорных векторов (SVM) или нейронные сети, чтобы обработать нелинейные зависимости между признаками и целевой переменной."
   ]
  },
  {
   "cell_type": "markdown",
   "id": "6d3d1729-db6d-4fc9-95d7-70522ba1fbb8",
   "metadata": {},
   "source": [
    "## **Вывод**"
   ]
  },
  {
   "cell_type": "markdown",
   "id": "c5c11c46-6768-4111-a718-d46f92fc56b9",
   "metadata": {},
   "source": [
    "В ходе лабораторной работы, направленной на овладение технологией внедрения алгоритмов линейной классификации в приложения, изучение основных приемов работы с разреженными матрицами в машинном обучении, освоение техники построения, обучения и оценки модели логистической регрессии, а также приемов работы с синтезированными признаками, масштабированием и настройкой гиперпараметров, были достигнуты следующие результаты:\n",
    "\n",
    "1. Установлены и настроены необходимые инструменты и библиотеки для реализации алгоритмов линейной классификации в приложения.\n",
    "2. Изучены основные принципы работы с разреженными матрицами, что позволит эффективно обрабатывать данные с разреженной структурой.\n",
    "3. Освоены методы построения, обучения и оценки модели логистической регрессии, что дает возможность применять этот метод для задач классификации.\n",
    "4. Получены навыки работы с синтезированными признаками, их масштабирования и оптимизации гиперпараметров, что способствует улучшению качества моделей машинного обучения.\n",
    "\n",
    "Эти результаты позволяют уверенно применять методы линейной классификации и логистической регрессии в практических задачах машинного обучения, а также эффективно работать с разреженными данными и оптимизировать процесс обучения моделей."
   ]
  }
 ],
 "metadata": {
  "kernelspec": {
   "display_name": "Python 3 (ipykernel)",
   "language": "python",
   "name": "python3"
  },
  "language_info": {
   "codemirror_mode": {
    "name": "ipython",
    "version": 3
   },
   "file_extension": ".py",
   "mimetype": "text/x-python",
   "name": "python",
   "nbconvert_exporter": "python",
   "pygments_lexer": "ipython3",
   "version": "3.11.4"
  }
 },
 "nbformat": 4,
 "nbformat_minor": 5
}
